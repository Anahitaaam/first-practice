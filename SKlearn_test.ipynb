{
  "nbformat": 4,
  "nbformat_minor": 0,
  "metadata": {
    "colab": {
      "name": "SKlearn test.ipynb",
      "provenance": [],
      "collapsed_sections": [],
      "mount_file_id": "1OGQGUvlmvJ9DFfsUwSE1hSog0xABolg6",
      "authorship_tag": "ABX9TyNJHdhfp9zN/IMWYF4/mlQX",
      "include_colab_link": true
    },
    "kernelspec": {
      "name": "python3",
      "display_name": "Python 3"
    },
    "language_info": {
      "name": "python"
    }
  },
  "cells": [
    {
      "cell_type": "markdown",
      "metadata": {
        "id": "view-in-github",
        "colab_type": "text"
      },
      "source": [
        "<a href=\"https://colab.research.google.com/github/Anahitaaam/first-practice/blob/main/SKlearn_test.ipynb\" target=\"_parent\"><img src=\"https://colab.research.google.com/assets/colab-badge.svg\" alt=\"Open In Colab\"/></a>"
      ]
    },
    {
      "cell_type": "markdown",
      "source": [
        "\n",
        "# Getting ready data to used with ML"
      ],
      "metadata": {
        "id": "pCoSBJksSOyl"
      }
    },
    {
      "cell_type": "code",
      "source": [
        "import pandas as pd\n",
        "from sklearn.model_selection import train_test_split\n",
        "from google.colab import drive\n",
        "\n",
        "drive.mount('/content/drive')\n",
        "\n",
        "heart_diseas = pd.read_csv('/content/drive/MyDrive/practice data set/heart-disease.csv')\n",
        "heart_diseas\n"
      ],
      "metadata": {
        "id": "1HeayaVwSeQv"
      },
      "execution_count": null,
      "outputs": []
    },
    {
      "cell_type": "code",
      "source": [
        "from numpy.ma.core import shape\n",
        "X=heart_diseas.drop('target',axis=1)\n",
        "Y=heart_diseas['target']\n",
        "X_train,X_test,Y_train,Y_test = train_test_split(X , Y, test_size = 0.2)\n",
        "X_train.shape, X_test.shape, Y_train.shape,Y_test.shape"
      ],
      "metadata": {
        "id": "M24dlRAfTiUS"
      },
      "execution_count": null,
      "outputs": []
    },
    {
      "cell_type": "markdown",
      "source": [
        "####Make sure its all numerical"
      ],
      "metadata": {
        "id": "xBbDN4qwXU0X"
      }
    },
    {
      "cell_type": "code",
      "source": [
        "Car_sales = pd.read_csv('/content/drive/MyDrive/practice data set/21708170-car-sales[UdemyIran.Com].csv')\n",
        "Car_sales\n",
        "Car_sales['Price'] = Car_sales['Price'].str.replace('[\\$\\,\\.]','').astype(int)\n",
        "Car_sales.info()"
      ],
      "metadata": {
        "id": "S1EDhvNnVaW2"
      },
      "execution_count": null,
      "outputs": []
    },
    {
      "cell_type": "code",
      "source": [
        "Xc = Car_sales.drop('Price',axis=1)\n",
        "Yc = Car_sales['Price']\n",
        "Xc_train,Xc_test,Yc_train,Yc_test = train_test_split(Xc , Yc , test_size = 0.2)\n",
        "Car_sales.dtypes\n"
      ],
      "metadata": {
        "id": "mAAh2NzOVcxH"
      },
      "execution_count": null,
      "outputs": []
    },
    {
      "cell_type": "code",
      "source": [
        "Car_sales['Doors'].value_counts()"
      ],
      "metadata": {
        "id": "1ELDtPTSF-RT"
      },
      "execution_count": null,
      "outputs": []
    },
    {
      "cell_type": "code",
      "source": [
        "Car_sales['Colour'].value_counts()"
      ],
      "metadata": {
        "id": "rLYYtmpRFUbL"
      },
      "execution_count": null,
      "outputs": []
    },
    {
      "cell_type": "code",
      "source": [
        "Car_sales['Make'].value_counts()"
      ],
      "metadata": {
        "id": "K4RdFM2hF9fs"
      },
      "execution_count": null,
      "outputs": []
    },
    {
      "cell_type": "code",
      "source": [
        "from numpy.core.numeric import ones_like\n",
        "# turn the category into numbers\n",
        "from sklearn.preprocessing import OneHotEncoder\n",
        "from sklearn.compose import ColumnTransformer\n",
        "\n",
        "One_Hot = OneHotEncoder()\n",
        "Category_features = ['Make','Colour','Doors']\n",
        "\n",
        "Transformer = ColumnTransformer([('One_Hot', One_Hot, Category_features)],remainder='passthrough')\n",
        "\n",
        "Transformed_Xc = Transformer.fit_transform(Xc,Yc)\n",
        "Transformed_Xc"
      ],
      "metadata": {
        "id": "LD05DahTXJ__"
      },
      "execution_count": null,
      "outputs": []
    },
    {
      "cell_type": "code",
      "source": [
        "pd.DataFrame(Transformed_Xc)"
      ],
      "metadata": {
        "id": "_gBfItzxchVl"
      },
      "execution_count": null,
      "outputs": []
    },
    {
      "cell_type": "markdown",
      "source": [
        "####Try convert to numericall with Dummies "
      ],
      "metadata": {
        "id": "4TVhFl1SGSRE"
      }
    },
    {
      "cell_type": "code",
      "source": [
        "import numpy as np\n",
        "from sklearn.ensemble import RandomForestRegressor\n",
        "dummies= pd.get_dummies(Car_sales[['Make','Colour','Doors']])\n",
        "dummies\n",
        "model= RandomForestRegressor()\n",
        "np.random.seed(40)\n",
        "X_train,X_test, Y_train,Y_test = train_test_split (Transformed_Xc ,Yc, test_size= 0.2)\n",
        "model.fit(X_train,Y_train)\n",
        "model.score(X_train,Y_train)"
      ],
      "metadata": {
        "colab": {
          "base_uri": "https://localhost:8080/"
        },
        "id": "2Z_danEfDzWW",
        "outputId": "bfc3febb-5c7d-4653-c9d7-1cbaa8c1d01e"
      },
      "execution_count": 39,
      "outputs": [
        {
          "output_type": "execute_result",
          "data": {
            "text/plain": [
              "0.9025699587466215"
            ]
          },
          "metadata": {},
          "execution_count": 39
        }
      ]
    },
    {
      "cell_type": "markdown",
      "source": [
        "####Missing value"
      ],
      "metadata": {
        "id": "U3TlP6ITHvWI"
      }
    },
    {
      "cell_type": "code",
      "source": [
        ""
      ],
      "metadata": {
        "id": "GbTwsYE9HBLn"
      },
      "execution_count": null,
      "outputs": []
    }
  ]
}