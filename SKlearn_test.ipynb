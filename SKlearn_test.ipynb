{
  "nbformat": 4,
  "nbformat_minor": 0,
  "metadata": {
    "colab": {
      "name": "SKlearn test.ipynb",
      "provenance": [],
      "collapsed_sections": [],
      "mount_file_id": "1OGQGUvlmvJ9DFfsUwSE1hSog0xABolg6",
      "authorship_tag": "ABX9TyOSuhnFUNcFrmE1oVZoJxzb",
      "include_colab_link": true
    },
    "kernelspec": {
      "name": "python3",
      "display_name": "Python 3"
    },
    "language_info": {
      "name": "python"
    }
  },
  "cells": [
    {
      "cell_type": "markdown",
      "metadata": {
        "id": "view-in-github",
        "colab_type": "text"
      },
      "source": [
        "<a href=\"https://colab.research.google.com/github/Anahitaaam/first-practice/blob/main/SKlearn_test.ipynb\" target=\"_parent\"><img src=\"https://colab.research.google.com/assets/colab-badge.svg\" alt=\"Open In Colab\"/></a>"
      ]
    },
    {
      "cell_type": "markdown",
      "source": [
        "\n",
        "# Getting ready data to used with ML"
      ],
      "metadata": {
        "id": "pCoSBJksSOyl"
      }
    },
    {
      "cell_type": "code",
      "source": [
        "import pandas as pd\n",
        "from sklearn.model_selection import train_test_split\n",
        "from google.colab import drive\n",
        "\n",
        "drive.mount('/content/drive')\n",
        "\n",
        "heart_diseas = pd.read_csv('/content/drive/MyDrive/practice data set/heart-disease.csv')\n",
        "heart_diseas\n"
      ],
      "metadata": {
        "id": "1HeayaVwSeQv"
      },
      "execution_count": null,
      "outputs": []
    },
    {
      "cell_type": "code",
      "source": [
        "from numpy.ma.core import shape\n",
        "X=heart_diseas.drop('target',axis=1)\n",
        "Y=heart_diseas['target']\n",
        "X_train,X_test,Y_train,Y_test = train_test_split(X , Y, test_size = 0.2)\n",
        "X_train.shape, X_test.shape, Y_train.shape,Y_test.shape"
      ],
      "metadata": {
        "id": "M24dlRAfTiUS"
      },
      "execution_count": null,
      "outputs": []
    },
    {
      "cell_type": "markdown",
      "source": [
        "####Make sure its all numerical"
      ],
      "metadata": {
        "id": "xBbDN4qwXU0X"
      }
    },
    {
      "cell_type": "code",
      "source": [
        "Car_sales = pd.read_csv('/content/drive/MyDrive/practice data set/21708170-car-sales[UdemyIran.Com].csv')\n",
        "Car_sales\n",
        "Xc = Car_sales.drop('Price',axis=1)\n",
        "Yc = Car_sales['Price']\n",
        "Xc_train,Xc_test,Yc_train,Yc_test = train_test_split(Xc , Yc , test_size = 0.2)\n",
        "Car_sales.dtypes\n"
      ],
      "metadata": {
        "id": "S1EDhvNnVaW2"
      },
      "execution_count": null,
      "outputs": []
    },
    {
      "cell_type": "code",
      "source": [
        "Car_sales['Doors'].value_counts()"
      ],
      "metadata": {
        "id": "1ELDtPTSF-RT"
      },
      "execution_count": null,
      "outputs": []
    },
    {
      "cell_type": "code",
      "source": [
        "Car_sales['Colour'].value_counts()"
      ],
      "metadata": {
        "id": "rLYYtmpRFUbL"
      },
      "execution_count": null,
      "outputs": []
    },
    {
      "cell_type": "code",
      "source": [
        "Car_sales['Make'].value_counts()"
      ],
      "metadata": {
        "id": "K4RdFM2hF9fs"
      },
      "execution_count": null,
      "outputs": []
    },
    {
      "cell_type": "code",
      "source": [
        "from numpy.core.numeric import ones_like\n",
        "# turn the category into numbers\n",
        "from sklearn.preprocessing import OneHotEncoder\n",
        "from sklearn.compose import ColumnTransformer\n",
        "\n",
        "One_Hot = OneHotEncoder()\n",
        "Category_features = ['Make','Colour','Doors']\n",
        "\n",
        "Transformer = ColumnTransformer([('One_Hot', One_Hot, Category_features)],remainder='passthrough')\n",
        "\n",
        "Transformed_Xc = Transformer.fit_transform(Xc,Yc)\n",
        "Transformed_Xc"
      ],
      "metadata": {
        "id": "LD05DahTXJ__"
      },
      "execution_count": null,
      "outputs": []
    },
    {
      "cell_type": "code",
      "source": [
        "pd.DataFrame(Transformed_Xc)"
      ],
      "metadata": {
        "id": "_gBfItzxchVl"
      },
      "execution_count": null,
      "outputs": []
    },
    {
      "cell_type": "markdown",
      "source": [
        "####Try convert to numericall with Dummies "
      ],
      "metadata": {
        "id": "4TVhFl1SGSRE"
      }
    },
    {
      "cell_type": "code",
      "source": [
        "import numpy as np\n",
        "from sklearn.ensemble import RandomForestRegressor\n",
        "dummies= pd.get_dummies(Car_sales[['Make','Colour','Doors']])\n",
        "dummies\n",
        "model= RandomForestRegressor()\n",
        "np.random.seed(40)\n",
        "X_train,X_test, Y_train,Y_test = train_test_split (Transformed_Xc ,Yc, test_size= 0.2)\n",
        "model.fit(X_train,Y_train)\n",
        "# model.score(X_train,Y_train)"
      ],
      "metadata": {
        "colab": {
          "base_uri": "https://localhost:8080/",
          "height": 360
        },
        "id": "2Z_danEfDzWW",
        "outputId": "94df4112-1f25-4a29-99ec-8234f30c26ed"
      },
      "execution_count": 27,
      "outputs": [
        {
          "output_type": "error",
          "ename": "ValueError",
          "evalue": "ignored",
          "traceback": [
            "\u001b[0;31m---------------------------------------------------------------------------\u001b[0m",
            "\u001b[0;31mValueError\u001b[0m                                Traceback (most recent call last)",
            "\u001b[0;32m<ipython-input-27-e2223ade2733>\u001b[0m in \u001b[0;36m<module>\u001b[0;34m()\u001b[0m\n\u001b[1;32m      6\u001b[0m \u001b[0mnp\u001b[0m\u001b[0;34m.\u001b[0m\u001b[0mrandom\u001b[0m\u001b[0;34m.\u001b[0m\u001b[0mseed\u001b[0m\u001b[0;34m(\u001b[0m\u001b[0;36m40\u001b[0m\u001b[0;34m)\u001b[0m\u001b[0;34m\u001b[0m\u001b[0;34m\u001b[0m\u001b[0m\n\u001b[1;32m      7\u001b[0m \u001b[0mX_train\u001b[0m\u001b[0;34m,\u001b[0m\u001b[0mX_test\u001b[0m\u001b[0;34m,\u001b[0m \u001b[0mY_train\u001b[0m\u001b[0;34m,\u001b[0m\u001b[0mY_test\u001b[0m \u001b[0;34m=\u001b[0m \u001b[0mtrain_test_split\u001b[0m \u001b[0;34m(\u001b[0m\u001b[0mTransformed_Xc\u001b[0m \u001b[0;34m,\u001b[0m\u001b[0mYc\u001b[0m\u001b[0;34m,\u001b[0m \u001b[0mtest_size\u001b[0m\u001b[0;34m=\u001b[0m \u001b[0;36m0.2\u001b[0m\u001b[0;34m)\u001b[0m\u001b[0;34m\u001b[0m\u001b[0;34m\u001b[0m\u001b[0m\n\u001b[0;32m----> 8\u001b[0;31m \u001b[0mmodel\u001b[0m\u001b[0;34m.\u001b[0m\u001b[0mfit\u001b[0m\u001b[0;34m(\u001b[0m\u001b[0mX_train\u001b[0m\u001b[0;34m,\u001b[0m\u001b[0mY_train\u001b[0m\u001b[0;34m)\u001b[0m\u001b[0;34m\u001b[0m\u001b[0;34m\u001b[0m\u001b[0m\n\u001b[0m\u001b[1;32m      9\u001b[0m \u001b[0;31m# model.score(X_train,Y_train)\u001b[0m\u001b[0;34m\u001b[0m\u001b[0;34m\u001b[0m\u001b[0;34m\u001b[0m\u001b[0m\n",
            "\u001b[0;32m/usr/local/lib/python3.7/dist-packages/sklearn/ensemble/_forest.py\u001b[0m in \u001b[0;36mfit\u001b[0;34m(self, X, y, sample_weight)\u001b[0m\n\u001b[1;32m    368\u001b[0m \u001b[0;34m\u001b[0m\u001b[0m\n\u001b[1;32m    369\u001b[0m         \u001b[0;32mif\u001b[0m \u001b[0mgetattr\u001b[0m\u001b[0;34m(\u001b[0m\u001b[0my\u001b[0m\u001b[0;34m,\u001b[0m \u001b[0;34m\"dtype\"\u001b[0m\u001b[0;34m,\u001b[0m \u001b[0;32mNone\u001b[0m\u001b[0;34m)\u001b[0m \u001b[0;34m!=\u001b[0m \u001b[0mDOUBLE\u001b[0m \u001b[0;32mor\u001b[0m \u001b[0;32mnot\u001b[0m \u001b[0my\u001b[0m\u001b[0;34m.\u001b[0m\u001b[0mflags\u001b[0m\u001b[0;34m.\u001b[0m\u001b[0mcontiguous\u001b[0m\u001b[0;34m:\u001b[0m\u001b[0;34m\u001b[0m\u001b[0;34m\u001b[0m\u001b[0m\n\u001b[0;32m--> 370\u001b[0;31m             \u001b[0my\u001b[0m \u001b[0;34m=\u001b[0m \u001b[0mnp\u001b[0m\u001b[0;34m.\u001b[0m\u001b[0mascontiguousarray\u001b[0m\u001b[0;34m(\u001b[0m\u001b[0my\u001b[0m\u001b[0;34m,\u001b[0m \u001b[0mdtype\u001b[0m\u001b[0;34m=\u001b[0m\u001b[0mDOUBLE\u001b[0m\u001b[0;34m)\u001b[0m\u001b[0;34m\u001b[0m\u001b[0;34m\u001b[0m\u001b[0m\n\u001b[0m\u001b[1;32m    371\u001b[0m \u001b[0;34m\u001b[0m\u001b[0m\n\u001b[1;32m    372\u001b[0m         \u001b[0;32mif\u001b[0m \u001b[0mexpanded_class_weight\u001b[0m \u001b[0;32mis\u001b[0m \u001b[0;32mnot\u001b[0m \u001b[0;32mNone\u001b[0m\u001b[0;34m:\u001b[0m\u001b[0;34m\u001b[0m\u001b[0;34m\u001b[0m\u001b[0m\n",
            "\u001b[0;31mValueError\u001b[0m: could not convert string to float: '$6,250.00'"
          ]
        }
      ]
    },
    {
      "cell_type": "markdown",
      "source": [
        "####Missing value"
      ],
      "metadata": {
        "id": "U3TlP6ITHvWI"
      }
    },
    {
      "cell_type": "code",
      "source": [
        ""
      ],
      "metadata": {
        "id": "GbTwsYE9HBLn"
      },
      "execution_count": null,
      "outputs": []
    }
  ]
}